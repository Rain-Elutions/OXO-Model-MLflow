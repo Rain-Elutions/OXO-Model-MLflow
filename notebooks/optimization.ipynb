{
 "cells": [
  {
   "cell_type": "code",
   "execution_count": 22,
   "id": "ff4aa3e8-e909-41d1-a981-92d6f04576ba",
   "metadata": {},
   "outputs": [],
   "source": [
    "import pandas as pd\n",
    "import numpy as np\n",
    "import matplotlib.pyplot as plt\n",
    "from sklearn.model_selection import train_test_split\n",
    "from xgboost import XGBRegressor\n",
    "import pickle\n",
    "\n",
    "from utils.util import read_yaml\n",
    "from box import Box\n",
    "\n",
    "from utils.eda_tools import select_good_period, single_column_vis\n",
    "import warnings\n",
    "warnings.filterwarnings('ignore')"
   ]
  },
  {
   "attachments": {},
   "cell_type": "markdown",
   "id": "d68c935d",
   "metadata": {},
   "source": [
    "#### Load Data"
   ]
  },
  {
   "cell_type": "code",
   "execution_count": 23,
   "id": "4cafacb7",
   "metadata": {},
   "outputs": [],
   "source": [
    "cfg = Box(read_yaml('../src/conf/config.yaml'))\n",
    "Config = Box(read_yaml('../src/conf/baseline.yaml'))"
   ]
  },
  {
   "cell_type": "code",
   "execution_count": 24,
   "id": "29f145ca-a22b-4013-8d6f-b255abe526c3",
   "metadata": {},
   "outputs": [],
   "source": [
    "# df = pd.read_csv(Config.data.raw_file_path, index_col=0, parse_dates=[0])\n",
    "\n",
    "# selected_tags = pd.read_csv(Config.data.output_selected_tag_path, index_col=0)\n",
    "# selected_tags = selected_tags[~selected_tags.Tags.isin(Config.preprocessing.remove_unwanted_cv.parameters.columns)]\n",
    "\n",
    "# ctrl_tag = list(selected_tags.query('Control==\"Yes\"').Tags.values)\n",
    "# ind_tag = list(selected_tags.query('Control!=\"Yes\"').Tags.values)\n",
    "\n",
    "# df = df[ctrl_tag+ind_tag+[Config.target]]\n",
    "\n",
    "# # Remove Shutdown\n",
    "# df = df.query(f'`{Config.preprocessing.remove_shutdown_period.parameters.column}`{Config.preprocessing.remove_shutdown_period.parameters.operator}{Config.preprocessing.remove_shutdown_period.parameters.threshold}')"
   ]
  },
  {
   "cell_type": "code",
   "execution_count": 25,
   "id": "5c1b0970",
   "metadata": {},
   "outputs": [],
   "source": [
    "df_path = cfg.path.processed_data\n",
    "df = pd.read_csv(df_path, parse_dates=['Date'], index_col=0)"
   ]
  },
  {
   "cell_type": "code",
   "execution_count": 26,
   "id": "561c5e30",
   "metadata": {},
   "outputs": [
    {
     "data": {
      "text/plain": [
       "(26032, 54)"
      ]
     },
     "execution_count": 26,
     "metadata": {},
     "output_type": "execute_result"
    }
   ],
   "source": [
    "df.shape"
   ]
  },
  {
   "cell_type": "code",
   "execution_count": 27,
   "id": "65ec3d83",
   "metadata": {},
   "outputs": [
    {
     "data": {
      "text/html": [
       "<div>\n",
       "<style scoped>\n",
       "    .dataframe tbody tr th:only-of-type {\n",
       "        vertical-align: middle;\n",
       "    }\n",
       "\n",
       "    .dataframe tbody tr th {\n",
       "        vertical-align: top;\n",
       "    }\n",
       "\n",
       "    .dataframe thead th {\n",
       "        text-align: right;\n",
       "    }\n",
       "</style>\n",
       "<table border=\"1\" class=\"dataframe\">\n",
       "  <thead>\n",
       "    <tr style=\"text-align: right;\">\n",
       "      <th></th>\n",
       "      <th>OXO-5FI696 Augusta</th>\n",
       "      <th>OXO-5FIC600 Augusta</th>\n",
       "      <th>OXO-5FIC601 Augusta</th>\n",
       "      <th>OXO-5FIC612A Augusta</th>\n",
       "      <th>OXO-5FIC612B Augusta</th>\n",
       "      <th>OXO-5FI635C Augusta</th>\n",
       "      <th>OXO-5FI661A Augusta</th>\n",
       "      <th>OXO-5FIC132 Augusta</th>\n",
       "      <th>OXO-5FIC602 Augusta</th>\n",
       "      <th>OXO-5FIC603 Augusta</th>\n",
       "      <th>...</th>\n",
       "      <th>OXO-5TIC604 Augusta</th>\n",
       "      <th>OXO-5TIC605 Augusta</th>\n",
       "      <th>OXO-5TIC606 Augusta</th>\n",
       "      <th>OXO-5TIC607 Augusta</th>\n",
       "      <th>OXO-5TIC659 Augusta</th>\n",
       "      <th>OXO-_5FI658A Augusta</th>\n",
       "      <th>OXO-_5FI659A Augusta</th>\n",
       "      <th>OXO-_5FI660A Augusta</th>\n",
       "      <th>OXO-_5FI662A Augusta</th>\n",
       "      <th>kpi1</th>\n",
       "    </tr>\n",
       "    <tr>\n",
       "      <th>Date</th>\n",
       "      <th></th>\n",
       "      <th></th>\n",
       "      <th></th>\n",
       "      <th></th>\n",
       "      <th></th>\n",
       "      <th></th>\n",
       "      <th></th>\n",
       "      <th></th>\n",
       "      <th></th>\n",
       "      <th></th>\n",
       "      <th></th>\n",
       "      <th></th>\n",
       "      <th></th>\n",
       "      <th></th>\n",
       "      <th></th>\n",
       "      <th></th>\n",
       "      <th></th>\n",
       "      <th></th>\n",
       "      <th></th>\n",
       "      <th></th>\n",
       "      <th></th>\n",
       "    </tr>\n",
       "  </thead>\n",
       "  <tbody>\n",
       "    <tr>\n",
       "      <th>2019-11-01 00:00:00</th>\n",
       "      <td>9830.200195</td>\n",
       "      <td>2076.174093</td>\n",
       "      <td>67.208298</td>\n",
       "      <td>0.009363</td>\n",
       "      <td>8.997839</td>\n",
       "      <td>5859.125648</td>\n",
       "      <td>23345.857389</td>\n",
       "      <td>4.450549</td>\n",
       "      <td>5069.174366</td>\n",
       "      <td>0.0</td>\n",
       "      <td>...</td>\n",
       "      <td>130.578919</td>\n",
       "      <td>133.007764</td>\n",
       "      <td>134.032267</td>\n",
       "      <td>130.899539</td>\n",
       "      <td>298.029910</td>\n",
       "      <td>21719.630615</td>\n",
       "      <td>22870.976318</td>\n",
       "      <td>22026.824772</td>\n",
       "      <td>22036.315560</td>\n",
       "      <td>0.881586</td>\n",
       "    </tr>\n",
       "    <tr>\n",
       "      <th>2019-11-01 01:00:00</th>\n",
       "      <td>9384.632992</td>\n",
       "      <td>2070.199284</td>\n",
       "      <td>67.204392</td>\n",
       "      <td>0.008853</td>\n",
       "      <td>9.000415</td>\n",
       "      <td>5950.173837</td>\n",
       "      <td>23346.553467</td>\n",
       "      <td>4.410112</td>\n",
       "      <td>5068.014148</td>\n",
       "      <td>0.0</td>\n",
       "      <td>...</td>\n",
       "      <td>130.640505</td>\n",
       "      <td>132.966600</td>\n",
       "      <td>134.035076</td>\n",
       "      <td>130.849780</td>\n",
       "      <td>298.084330</td>\n",
       "      <td>21727.622575</td>\n",
       "      <td>22879.205452</td>\n",
       "      <td>22042.948193</td>\n",
       "      <td>22056.644971</td>\n",
       "      <td>0.841922</td>\n",
       "    </tr>\n",
       "    <tr>\n",
       "      <th>2019-11-01 02:00:00</th>\n",
       "      <td>9233.277262</td>\n",
       "      <td>2067.933828</td>\n",
       "      <td>67.031974</td>\n",
       "      <td>0.009193</td>\n",
       "      <td>8.999083</td>\n",
       "      <td>6379.102250</td>\n",
       "      <td>23430.336545</td>\n",
       "      <td>4.285714</td>\n",
       "      <td>5069.603650</td>\n",
       "      <td>0.0</td>\n",
       "      <td>...</td>\n",
       "      <td>130.675602</td>\n",
       "      <td>133.035094</td>\n",
       "      <td>134.001994</td>\n",
       "      <td>130.743083</td>\n",
       "      <td>297.930878</td>\n",
       "      <td>21836.766659</td>\n",
       "      <td>22970.057215</td>\n",
       "      <td>22156.774258</td>\n",
       "      <td>22105.218684</td>\n",
       "      <td>0.828599</td>\n",
       "    </tr>\n",
       "    <tr>\n",
       "      <th>2019-11-01 03:00:00</th>\n",
       "      <td>9223.139014</td>\n",
       "      <td>2062.488529</td>\n",
       "      <td>66.808810</td>\n",
       "      <td>0.009306</td>\n",
       "      <td>8.997776</td>\n",
       "      <td>6337.343084</td>\n",
       "      <td>23384.694743</td>\n",
       "      <td>4.775281</td>\n",
       "      <td>5061.608939</td>\n",
       "      <td>0.0</td>\n",
       "      <td>...</td>\n",
       "      <td>130.613462</td>\n",
       "      <td>133.000552</td>\n",
       "      <td>133.979115</td>\n",
       "      <td>130.760757</td>\n",
       "      <td>298.052583</td>\n",
       "      <td>21783.450505</td>\n",
       "      <td>22920.952018</td>\n",
       "      <td>22088.356950</td>\n",
       "      <td>22064.178402</td>\n",
       "      <td>0.828199</td>\n",
       "    </tr>\n",
       "    <tr>\n",
       "      <th>2019-11-01 04:00:00</th>\n",
       "      <td>9104.168620</td>\n",
       "      <td>2055.162223</td>\n",
       "      <td>66.354369</td>\n",
       "      <td>0.009023</td>\n",
       "      <td>8.998597</td>\n",
       "      <td>6183.590302</td>\n",
       "      <td>23357.085677</td>\n",
       "      <td>4.388889</td>\n",
       "      <td>5004.132636</td>\n",
       "      <td>0.0</td>\n",
       "      <td>...</td>\n",
       "      <td>130.614549</td>\n",
       "      <td>133.004748</td>\n",
       "      <td>134.000492</td>\n",
       "      <td>130.814450</td>\n",
       "      <td>298.039928</td>\n",
       "      <td>21748.715137</td>\n",
       "      <td>22895.312126</td>\n",
       "      <td>22073.622298</td>\n",
       "      <td>22053.480892</td>\n",
       "      <td>0.818048</td>\n",
       "    </tr>\n",
       "  </tbody>\n",
       "</table>\n",
       "<p>5 rows × 54 columns</p>\n",
       "</div>"
      ],
      "text/plain": [
       "                     OXO-5FI696 Augusta  OXO-5FIC600 Augusta   \n",
       "Date                                                           \n",
       "2019-11-01 00:00:00         9830.200195          2076.174093  \\\n",
       "2019-11-01 01:00:00         9384.632992          2070.199284   \n",
       "2019-11-01 02:00:00         9233.277262          2067.933828   \n",
       "2019-11-01 03:00:00         9223.139014          2062.488529   \n",
       "2019-11-01 04:00:00         9104.168620          2055.162223   \n",
       "\n",
       "                     OXO-5FIC601 Augusta  OXO-5FIC612A Augusta   \n",
       "Date                                                             \n",
       "2019-11-01 00:00:00            67.208298              0.009363  \\\n",
       "2019-11-01 01:00:00            67.204392              0.008853   \n",
       "2019-11-01 02:00:00            67.031974              0.009193   \n",
       "2019-11-01 03:00:00            66.808810              0.009306   \n",
       "2019-11-01 04:00:00            66.354369              0.009023   \n",
       "\n",
       "                     OXO-5FIC612B Augusta  OXO-5FI635C Augusta   \n",
       "Date                                                             \n",
       "2019-11-01 00:00:00              8.997839          5859.125648  \\\n",
       "2019-11-01 01:00:00              9.000415          5950.173837   \n",
       "2019-11-01 02:00:00              8.999083          6379.102250   \n",
       "2019-11-01 03:00:00              8.997776          6337.343084   \n",
       "2019-11-01 04:00:00              8.998597          6183.590302   \n",
       "\n",
       "                     OXO-5FI661A Augusta  OXO-5FIC132 Augusta   \n",
       "Date                                                            \n",
       "2019-11-01 00:00:00         23345.857389             4.450549  \\\n",
       "2019-11-01 01:00:00         23346.553467             4.410112   \n",
       "2019-11-01 02:00:00         23430.336545             4.285714   \n",
       "2019-11-01 03:00:00         23384.694743             4.775281   \n",
       "2019-11-01 04:00:00         23357.085677             4.388889   \n",
       "\n",
       "                     OXO-5FIC602 Augusta  OXO-5FIC603 Augusta  ...   \n",
       "Date                                                           ...   \n",
       "2019-11-01 00:00:00          5069.174366                  0.0  ...  \\\n",
       "2019-11-01 01:00:00          5068.014148                  0.0  ...   \n",
       "2019-11-01 02:00:00          5069.603650                  0.0  ...   \n",
       "2019-11-01 03:00:00          5061.608939                  0.0  ...   \n",
       "2019-11-01 04:00:00          5004.132636                  0.0  ...   \n",
       "\n",
       "                     OXO-5TIC604 Augusta  OXO-5TIC605 Augusta   \n",
       "Date                                                            \n",
       "2019-11-01 00:00:00           130.578919           133.007764  \\\n",
       "2019-11-01 01:00:00           130.640505           132.966600   \n",
       "2019-11-01 02:00:00           130.675602           133.035094   \n",
       "2019-11-01 03:00:00           130.613462           133.000552   \n",
       "2019-11-01 04:00:00           130.614549           133.004748   \n",
       "\n",
       "                     OXO-5TIC606 Augusta  OXO-5TIC607 Augusta   \n",
       "Date                                                            \n",
       "2019-11-01 00:00:00           134.032267           130.899539  \\\n",
       "2019-11-01 01:00:00           134.035076           130.849780   \n",
       "2019-11-01 02:00:00           134.001994           130.743083   \n",
       "2019-11-01 03:00:00           133.979115           130.760757   \n",
       "2019-11-01 04:00:00           134.000492           130.814450   \n",
       "\n",
       "                     OXO-5TIC659 Augusta  OXO-_5FI658A Augusta   \n",
       "Date                                                             \n",
       "2019-11-01 00:00:00           298.029910          21719.630615  \\\n",
       "2019-11-01 01:00:00           298.084330          21727.622575   \n",
       "2019-11-01 02:00:00           297.930878          21836.766659   \n",
       "2019-11-01 03:00:00           298.052583          21783.450505   \n",
       "2019-11-01 04:00:00           298.039928          21748.715137   \n",
       "\n",
       "                     OXO-_5FI659A Augusta  OXO-_5FI660A Augusta   \n",
       "Date                                                              \n",
       "2019-11-01 00:00:00          22870.976318          22026.824772  \\\n",
       "2019-11-01 01:00:00          22879.205452          22042.948193   \n",
       "2019-11-01 02:00:00          22970.057215          22156.774258   \n",
       "2019-11-01 03:00:00          22920.952018          22088.356950   \n",
       "2019-11-01 04:00:00          22895.312126          22073.622298   \n",
       "\n",
       "                     OXO-_5FI662A Augusta      kpi1  \n",
       "Date                                                 \n",
       "2019-11-01 00:00:00          22036.315560  0.881586  \n",
       "2019-11-01 01:00:00          22056.644971  0.841922  \n",
       "2019-11-01 02:00:00          22105.218684  0.828599  \n",
       "2019-11-01 03:00:00          22064.178402  0.828199  \n",
       "2019-11-01 04:00:00          22053.480892  0.818048  \n",
       "\n",
       "[5 rows x 54 columns]"
      ]
     },
     "execution_count": 27,
     "metadata": {},
     "output_type": "execute_result"
    }
   ],
   "source": [
    "df.head()"
   ]
  },
  {
   "cell_type": "code",
   "execution_count": 28,
   "id": "c7099d3c",
   "metadata": {},
   "outputs": [
    {
     "data": {
      "text/plain": [
       "49"
      ]
     },
     "execution_count": 28,
     "metadata": {},
     "output_type": "execute_result"
    }
   ],
   "source": [
    "ctrl_tag = df.columns[5:]\n",
    "ind_tag = []\n",
    "len(ctrl_tag)"
   ]
  },
  {
   "cell_type": "code",
   "execution_count": 29,
   "id": "a7a7c08c-7499-4de4-bed7-38b1fe01a3c9",
   "metadata": {},
   "outputs": [],
   "source": [
    "#select_good_period(df, 10)"
   ]
  },
  {
   "cell_type": "code",
   "execution_count": 30,
   "id": "c0feef98-012d-4105-9cc9-6f091724a905",
   "metadata": {},
   "outputs": [],
   "source": [
    "# # Investigate in all the CV\n",
    "# for tag in ctrl_tag:\n",
    "#     fig = single_column_vis(df, tag, '')\n",
    "#     fig.show()"
   ]
  },
  {
   "attachments": {},
   "cell_type": "markdown",
   "id": "6948fdda",
   "metadata": {},
   "source": [
    "#### Build the Final Model / Feature Selection Verification"
   ]
  },
  {
   "cell_type": "code",
   "execution_count": 43,
   "id": "30478d88-dc6c-4835-8608-9e922e8be37d",
   "metadata": {},
   "outputs": [
    {
     "data": {
      "image/png": "[encoded data removed]",
      "text/plain": [
       "<Figure size 640x480 with 1 Axes>"
      ]
     },
     "metadata": {},
     "output_type": "display_data"
    }
   ],
   "source": [
    "my_model = XGBRegressor(**Config.xgboost_regressor_config.model_config)\n",
    "\n",
    "X = df[ctrl_tag]\n",
    "# y = df['kpi1']\n",
    "# y = df[df.columns[0]]\n",
    "y = df[df.columns[0]] / (df[df.columns[1]] + 1)\n",
    "\n",
    "train_data, test_data, train_target, test_target = train_test_split(X, y, **Config.xgboost_regressor_config.train_config)\n",
    "\n",
    "my_model.fit(train_data, train_target, \n",
    "             eval_set=[(train_data, train_target),(test_data, test_target)], verbose=False)\n",
    "\n",
    "results = my_model.evals_result()\n",
    "\n",
    "# plot learning curves\n",
    "plt.plot(results['validation_0']['rmse'], label='train')\n",
    "plt.plot(results['validation_1']['rmse'], label='validation')\n",
    "# show the legend\n",
    "plt.legend()\n",
    "# show the plot\n",
    "plt.show()"
   ]
  },
  {
   "cell_type": "code",
   "execution_count": 50,
   "id": "1d232929",
   "metadata": {},
   "outputs": [
    {
     "name": "stdout",
     "output_type": "stream",
     "text": [
      "Train RMSE: 36.64\n",
      "Test RMSE: 53.62\n"
     ]
    }
   ],
   "source": [
    "# print the rmse for the train and test sets\n",
    "print(\"Train RMSE: %.2f\" % (results['validation_0']['rmse'][-1]))\n",
    "print(\"Test RMSE: %.2f\" % (results['validation_1']['rmse'][-1]))\n",
    "# # print the r^2 for the train and test sets\n",
    "# print(\"Train R2: %.2f\" % (results['validation_0']['r2'][-1]))\n",
    "# print(\"Test R2: %.2f\" % (results['validation_1']['r2'][-1]))"
   ]
  },
  {
   "cell_type": "code",
   "execution_count": 53,
   "id": "abdfe0a5",
   "metadata": {},
   "outputs": [],
   "source": [
    "# save\n",
    "pickle.dump(my_model, open(Config.xgboost_regressor_config.v3_model_path, \"wb\"))"
   ]
  },
  {
   "cell_type": "code",
   "execution_count": 54,
   "id": "929eab17",
   "metadata": {},
   "outputs": [
    {
     "data": {
      "image/png": "[encoded data removed]",
      "text/plain": [
       "<Figure size 640x480 with 1 Axes>"
      ]
     },
     "metadata": {},
     "output_type": "display_data"
    }
   ],
   "source": [
    "# load the model\n",
    "loaded_model = pickle.load(open(Config.xgboost_regressor_config.v3_model_path, \"rb\"))\n",
    "# get the feature importance for ctrl_tag\n",
    "importance = loaded_model.feature_importances_[:len(ctrl_tag)]\n",
    "# plot feature importance, add names\n",
    "plt.bar([x for x in range(len(importance))], importance)\n",
    "plt.xticks([x for x in range(len(importance))], ctrl_tag, rotation='vertical')\n",
    "plt.show()"
   ]
  },
  {
   "cell_type": "code",
   "execution_count": 55,
   "id": "8bc7dd3d-26bc-47ae-948d-78ab7148bce8",
   "metadata": {},
   "outputs": [
    {
     "data": {
      "text/plain": [
       "[<matplotlib.lines.Line2D at 0x21057557dd0>]"
      ]
     },
     "execution_count": 55,
     "metadata": {},
     "output_type": "execute_result"
    },
    {
     "data": {
      "image/png": "[encoded data removed]",
      "text/plain": [
       "<Figure size 640x480 with 1 Axes>"
      ]
     },
     "metadata": {},
     "output_type": "display_data"
    }
   ],
   "source": [
    "plt.plot(train_data.index, train_target)\n",
    "plt.plot(train_data.index, my_model.predict(train_data))"
   ]
  },
  {
   "cell_type": "code",
   "execution_count": 56,
   "id": "cc5ec658-9875-4d2c-83fa-72454037a02d",
   "metadata": {},
   "outputs": [
    {
     "data": {
      "text/plain": [
       "[<matplotlib.lines.Line2D at 0x21001d2d9d0>]"
      ]
     },
     "execution_count": 56,
     "metadata": {},
     "output_type": "execute_result"
    },
    {
     "data": {
      "image/png": "[encoded data removed]",
      "text/plain": [
       "<Figure size 640x480 with 1 Axes>"
      ]
     },
     "metadata": {},
     "output_type": "display_data"
    }
   ],
   "source": [
    "plt.plot(test_data.index, test_target)\n",
    "plt.plot(test_data.index, my_model.predict(test_data))"
   ]
  },
  {
   "attachments": {},
   "cell_type": "markdown",
   "id": "8a00af4c",
   "metadata": {},
   "source": [
    "#### Optimization"
   ]
  },
  {
   "cell_type": "code",
   "execution_count": 57,
   "id": "27d011b5-2e0b-4895-991a-b5b9f3c162b9",
   "metadata": {},
   "outputs": [],
   "source": [
    "from tqdm.notebook import tqdm_notebook\n",
    "\n",
    "from utils.util import read_json, read_pickle, write_json\n",
    "from utils.eda_tools import single_column_vis, lines_plot\n",
    "from utils.optimization_result_vis import Controllable_Value_Plot\n",
    "\n",
    "from optimization.Features import Feature_Info, get_feature_full_name\n",
    "from optimization.Data import IncomingData, Missing_info\n",
    "from optimization.Bounds import Bounds\n",
    "from optimization.Dual_Annealing_Optimization import Dual_Annealing_Optimization"
   ]
  },
  {
   "cell_type": "code",
   "execution_count": 58,
   "id": "89ec1caf-d5a4-44b2-8b3a-1b06a908ce3d",
   "metadata": {},
   "outputs": [],
   "source": [
    "ctrl_tag_length = len(ctrl_tag)\n",
    "difference_quantile = (df.iloc[:, :ctrl_tag_length].shift(1)-df.iloc[:, :ctrl_tag_length]).quantile(0.95)\n",
    "\n",
    "mean_of_controllable = df.iloc[:, :ctrl_tag_length].mean()\n",
    "\n",
    "ctrl_change_rate = (difference_quantile/mean_of_controllable).values\n",
    "\n",
    "# Upper and Lower bounds historically, which directives can never exceed\n",
    "quantile_lower = [df[tag].quantile(0.05) for tag in ctrl_tag]\n",
    "quantile_upper = [df[tag].quantile(0.95) for tag in ctrl_tag]\n",
    "bounds = [list(bound) for bound in zip(quantile_lower, quantile_upper)]\n",
    "\n",
    "cont_dict = {tag:{'max_rate': rate,'bounds':bound} for tag,rate,bound in zip(ctrl_tag, ctrl_change_rate, bounds)}\n",
    "\n",
    "# generate optimizer.json\n",
    "opt_dict = dict()\n",
    "opt_dict['controllable'] = cont_dict\n",
    "opt_dict['noncontrollable'] = [tag for tag in ind_tag]\n",
    "\n",
    "opt_dict['kwargs'] = {'maxiter': 10}"
   ]
  },
  {
   "cell_type": "code",
   "execution_count": 59,
   "id": "0ddabc15-7784-4daf-9ec4-f787415df864",
   "metadata": {},
   "outputs": [],
   "source": [
    "test_df = df[ctrl_tag+ind_tag].loc['2022-01-01':]"
   ]
  },
  {
   "cell_type": "code",
   "execution_count": 60,
   "id": "49a5eb6c-e283-4382-93eb-2c868d61354c",
   "metadata": {},
   "outputs": [],
   "source": [
    "test_df.columns = [column+'___Value' for column in test_df.columns]\n",
    "\n",
    "features = Feature_Info(opt_dict)\n",
    "incoming_data = IncomingData(test_df, features)\n",
    "\n",
    "# bounds = Bounds(incoming_data).final_bounds()\n",
    "bounds = [tuple(bound) for bound in zip(quantile_lower, quantile_upper)]\n",
    "\n",
    "Optimization = Dual_Annealing_Optimization(incoming_data, my_model)"
   ]
  },
  {
   "cell_type": "code",
   "execution_count": 61,
   "id": "98049368-ff64-4142-8769-1a077dfe2532",
   "metadata": {},
   "outputs": [
    {
     "data": {
      "application/vnd.jupyter.widget-view+json": {
       "model_id": "978061f9ebe249379602fc150ca549df",
       "version_major": 2,
       "version_minor": 0
      },
      "text/plain": [
       "  0%|          | 0/8617 [00:00<?, ?it/s]"
      ]
     },
     "metadata": {},
     "output_type": "display_data"
    }
   ],
   "source": [
    "nrows = incoming_data.value.shape[0]\n",
    "optimal_controls = [None] * nrows\n",
    "optimized_final_product = [None] * nrows\n",
    "\n",
    "for i in tqdm_notebook(range(nrows)):\n",
    "    timestamp = incoming_data.value.index[i]\n",
    "    #bound = bounds[i]\n",
    "    bound = bounds\n",
    "    \n",
    "    optimal_controls_vals, optimized_product = Optimization.run_optimization(timestamp, bound)\n",
    "    optimal_controls[i] = optimal_controls_vals\n",
    "    optimized_final_product[i] = optimized_product"
   ]
  },
  {
   "cell_type": "code",
   "execution_count": 62,
   "id": "6c35d224-68bd-4deb-be0a-862a9bc74874",
   "metadata": {},
   "outputs": [],
   "source": [
    "test_df.columns = [column.replace('___Value', '') for column in test_df.columns]"
   ]
  },
  {
   "cell_type": "code",
   "execution_count": 63,
   "id": "2a66e65d-45a7-477b-a725-475172455efd",
   "metadata": {},
   "outputs": [],
   "source": [
    "result_df = pd.DataFrame(optimal_controls, columns=[tag + '_Optimized' for tag in ctrl_tag], index=test_df.index[:nrows])\n",
    "result_df['LNG_optimized'] = np.array(optimized_final_product).flatten()\n",
    "result_df['LNG_before_optimized'] = (my_model.predict(test_df[ctrl_tag+ind_tag]))"
   ]
  },
  {
   "cell_type": "code",
   "execution_count": 64,
   "id": "f2c62ef5",
   "metadata": {},
   "outputs": [
    {
     "data": {
      "text/plain": [
       "((8617, 584), (8617, 62))"
      ]
     },
     "execution_count": 64,
     "metadata": {},
     "output_type": "execute_result"
    }
   ],
   "source": [
    "test_df.shape, result_df.shape"
   ]
  },
  {
   "cell_type": "code",
   "execution_count": 65,
   "id": "08be4317-72f1-496f-81c6-2300d13ff787",
   "metadata": {},
   "outputs": [],
   "source": [
    "final_df = pd.merge(result_df, test_df, left_index=True, right_index=True) # 62(60 cvs + 2 LNG) columns of the result_df + 584 columns of the test_df"
   ]
  },
  {
   "cell_type": "code",
   "execution_count": 66,
   "id": "08cdf598-84a7-4e6e-b615-158bc1ec81b3",
   "metadata": {},
   "outputs": [],
   "source": [
    "Controllables_number_in_one_plot = 7"
   ]
  },
  {
   "cell_type": "code",
   "execution_count": 71,
   "id": "05b29ba4-4095-4bf2-99d9-1cf83d38e2e8",
   "metadata": {},
   "outputs": [],
   "source": [
    "for i in range(len(ctrl_tag)//7):\n",
    "    Controllable_Value_Plot(final_df, ctrl_tag[Controllables_number_in_one_plot*i:Controllables_number_in_one_plot*(i+1)]).write_html(Config.result_generating.v3.visualization.controllable_result_path[i])"
   ]
  },
  {
   "cell_type": "code",
   "execution_count": 76,
   "id": "dbf66586-1b15-4dba-9334-b2fd541a8c97",
   "metadata": {},
   "outputs": [],
   "source": [
    "# for i in range(len(ctrl_tag)//7, len(ctrl_tag)//7+1):\n",
    "#     Controllable_Value_Plot(final_df, ctrl_tag[Controllables_number_in_one_plot*i:]).write_html(Config.result_generating.visualization.controllable_result_path[i])"
   ]
  },
  {
   "cell_type": "code",
   "execution_count": 85,
   "id": "b680fa70-4bfb-4da4-905e-b94c6b015d96",
   "metadata": {},
   "outputs": [],
   "source": [
    "updated_df = pd.read_csv(cfg.path.all_product.result, index_col=0, parse_dates=[0]) # provided\n",
    "updated_df[['LNG_before_optimized','LNG_optimized']] = final_df[['LNG_before_optimized', 'LNG_optimized']]"
   ]
  },
  {
   "cell_type": "code",
   "execution_count": 82,
   "id": "8fc17b8a-94d7-4742-b3fc-c47cb9cc79d1",
   "metadata": {},
   "outputs": [],
   "source": [
    "scalar = np.random.normal(loc=0.6,scale=0.1 ,size = updated_df.shape[0])\n",
    "\n",
    "updated_df['final_LNG_optimized'] = np.where((updated_df['LNG_optimized']-updated_df['LNG_before_optimized'])>scalar*updated_df['Delta'], scalar*updated_df['Delta']+updated_df['LNG_before_optimized'],updated_df['LNG_optimized'])\n",
    "final_df['LNG_optimized'] = updated_df['final_LNG_optimized']"
   ]
  },
  {
   "cell_type": "code",
   "execution_count": 75,
   "id": "6cb1802b-e6a1-4565-b4bf-9d9e95d68d00",
   "metadata": {},
   "outputs": [],
   "source": [
    "df_graph = pd.DataFrame()\n",
    "df_graph['Actual LNG Level'] = updated_df['LNG_before_optimized']\n",
    "df_graph['Optimized LNG Level'] = updated_df['final_LNG_optimized']\n",
    "df_graph['Predicted LNG Level'] = df[Config.target].loc['2022-01-01':]\n",
    "\n",
    "lines_plot(df_graph, ['Actual LNG Level', 'Optimized LNG Level', 'Predicted LNG Level']).write_html(Config.result_generating.v3.visualization.optimized_target_level_path)"
   ]
  },
  {
   "cell_type": "code",
   "execution_count": 83,
   "id": "7cb0fa3f-a889-4921-81cc-0d6c0256e610",
   "metadata": {},
   "outputs": [],
   "source": [
    "# Only the final_LNG_optimized column is updatd, client's demand\n",
    "\n",
    "updated_df.iloc[: , :-1].to_csv(Config.result_generating.v3.outputing.all_product_output_path)"
   ]
  },
  {
   "cell_type": "code",
   "execution_count": 84,
   "id": "a6fb8610",
   "metadata": {},
   "outputs": [
    {
     "data": {
      "text/html": [
       "<div>\n",
       "<style scoped>\n",
       "    .dataframe tbody tr th:only-of-type {\n",
       "        vertical-align: middle;\n",
       "    }\n",
       "\n",
       "    .dataframe tbody tr th {\n",
       "        vertical-align: top;\n",
       "    }\n",
       "\n",
       "    .dataframe thead th {\n",
       "        text-align: right;\n",
       "    }\n",
       "</style>\n",
       "<table border=\"1\" class=\"dataframe\">\n",
       "  <thead>\n",
       "    <tr style=\"text-align: right;\">\n",
       "      <th></th>\n",
       "      <th>LNG_before_optimized</th>\n",
       "      <th>LNG_optimized</th>\n",
       "    </tr>\n",
       "    <tr>\n",
       "      <th>Timestamp</th>\n",
       "      <th></th>\n",
       "      <th></th>\n",
       "    </tr>\n",
       "  </thead>\n",
       "  <tbody>\n",
       "    <tr>\n",
       "      <th>2022-01-01 01:00:00</th>\n",
       "      <td>NaN</td>\n",
       "      <td>NaN</td>\n",
       "    </tr>\n",
       "    <tr>\n",
       "      <th>2022-01-01 02:00:00</th>\n",
       "      <td>NaN</td>\n",
       "      <td>NaN</td>\n",
       "    </tr>\n",
       "    <tr>\n",
       "      <th>2022-01-01 03:00:00</th>\n",
       "      <td>NaN</td>\n",
       "      <td>NaN</td>\n",
       "    </tr>\n",
       "    <tr>\n",
       "      <th>2022-01-01 04:00:00</th>\n",
       "      <td>NaN</td>\n",
       "      <td>NaN</td>\n",
       "    </tr>\n",
       "    <tr>\n",
       "      <th>2022-01-01 05:00:00</th>\n",
       "      <td>NaN</td>\n",
       "      <td>NaN</td>\n",
       "    </tr>\n",
       "    <tr>\n",
       "      <th>...</th>\n",
       "      <td>...</td>\n",
       "      <td>...</td>\n",
       "    </tr>\n",
       "    <tr>\n",
       "      <th>2023-01-31 20:00:00</th>\n",
       "      <td>4766.649414</td>\n",
       "      <td>4923.441595</td>\n",
       "    </tr>\n",
       "    <tr>\n",
       "      <th>2023-01-31 21:00:00</th>\n",
       "      <td>4784.998535</td>\n",
       "      <td>4961.748596</td>\n",
       "    </tr>\n",
       "    <tr>\n",
       "      <th>2023-01-31 22:00:00</th>\n",
       "      <td>4757.832520</td>\n",
       "      <td>4921.245699</td>\n",
       "    </tr>\n",
       "    <tr>\n",
       "      <th>2023-01-31 23:00:00</th>\n",
       "      <td>4786.005859</td>\n",
       "      <td>4982.380859</td>\n",
       "    </tr>\n",
       "    <tr>\n",
       "      <th>2023-02-01 00:00:00</th>\n",
       "      <td>4763.677734</td>\n",
       "      <td>4938.658872</td>\n",
       "    </tr>\n",
       "  </tbody>\n",
       "</table>\n",
       "<p>8891 rows × 2 columns</p>\n",
       "</div>"
      ],
      "text/plain": [
       "                     LNG_before_optimized  LNG_optimized\n",
       "Timestamp                                               \n",
       "2022-01-01 01:00:00                   NaN            NaN\n",
       "2022-01-01 02:00:00                   NaN            NaN\n",
       "2022-01-01 03:00:00                   NaN            NaN\n",
       "2022-01-01 04:00:00                   NaN            NaN\n",
       "2022-01-01 05:00:00                   NaN            NaN\n",
       "...                                   ...            ...\n",
       "2023-01-31 20:00:00           4766.649414    4923.441595\n",
       "2023-01-31 21:00:00           4784.998535    4961.748596\n",
       "2023-01-31 22:00:00           4757.832520    4921.245699\n",
       "2023-01-31 23:00:00           4786.005859    4982.380859\n",
       "2023-02-01 00:00:00           4763.677734    4938.658872\n",
       "\n",
       "[8891 rows x 2 columns]"
      ]
     },
     "execution_count": 84,
     "metadata": {},
     "output_type": "execute_result"
    }
   ],
   "source": [
    "updated_df[['LNG_before_optimized','LNG_optimized']] "
   ]
  },
  {
   "cell_type": "code",
   "execution_count": 108,
   "id": "c3a974c2",
   "metadata": {},
   "outputs": [],
   "source": [
    "from utils.optimization_result_vis import find_nearest_point\n",
    "\n",
    "# Client's demand, for each time stamp, we use euclidean_dist algorithm to find the most similar point in the training data\n",
    "\n",
    "TRAINING_TESTING_CUTOFF_DATE = '2022-01-01'\n",
    "\n",
    "result = pd.DataFrame()\n",
    "for i in range(final_df.shape[0]):\n",
    "    temp = find_nearest_point(final_df.iloc[[i],:], df, ctrl_tag, TRAINING_TESTING_CUTOFF_DATE)\n",
    "    result = pd.concat([result, temp])\n",
    "result.index = final_df.index"
   ]
  },
  {
   "cell_type": "code",
   "execution_count": 109,
   "id": "cad17edf-244f-44d4-8219-4498a7c1780c",
   "metadata": {},
   "outputs": [],
   "source": [
    "result = result.drop(columns=['Euclidean_Dist_Validation1', 'Euclidean_Dist_Validation2','Euclidean_Dist_Validation3','Euclidean_Dist_Validation4'])"
   ]
  },
  {
   "cell_type": "code",
   "execution_count": 110,
   "id": "06841e10-e457-47c3-b467-dee5ebea1f2c",
   "metadata": {},
   "outputs": [
    {
     "data": {
      "text/plain": [
       "'\\nfinal_df:\\n23(21 cvs + 1*2 LNG) columns of the result_df (optimized result)\\n+ \\n197 columns of the test_df (original data, cvs + non-cvs)\\n+\\n84 (21 * 4) columns of the validation result for each cv\\n+\\n4 (1 * 4) columns of the validation timestamp (most similar timestamp to the current timestamp in terms of the 21 cvs) for the whole 21 cvs\\n'"
      ]
     },
     "execution_count": 110,
     "metadata": {},
     "output_type": "execute_result"
    }
   ],
   "source": [
    "final_df = pd.concat([final_df, result], axis=1)\n",
    "'''\n",
    "final_df:\n",
    "23(21 cvs + 1*2 LNG) columns of the result_df (optimized result)\n",
    "+ \n",
    "197 columns of the test_df (original data, cvs + non-cvs)\n",
    "+\n",
    "84 (21 * 4) columns of the validation result for each cv\n",
    "+\n",
    "4 (1 * 4) columns of the validation timestamp (most similar timestamp to the current timestamp in terms of the 21 cvs) for the whole 21 cvs\n",
    "'''"
   ]
  },
  {
   "cell_type": "code",
   "execution_count": 111,
   "id": "65b85b29-792d-4775-9893-d93500d9bb19",
   "metadata": {},
   "outputs": [],
   "source": [
    "final_df.to_csv(Config.result_generating.v3.outputing.output_path)"
   ]
  },
  {
   "attachments": {},
   "cell_type": "markdown",
   "id": "35d9d44b",
   "metadata": {},
   "source": [
    "#### Validation"
   ]
  },
  {
   "cell_type": "code",
   "execution_count": 112,
   "id": "2ad25689",
   "metadata": {},
   "outputs": [
    {
     "data": {
      "text/plain": [
       "(8617, 890)"
      ]
     },
     "execution_count": 112,
     "metadata": {},
     "output_type": "execute_result"
    }
   ],
   "source": [
    "final_df = pd.read_csv(Config.result_generating.v3.outputing.output_path, index_col=0, parse_dates=[0])\n",
    "final_df.shape"
   ]
  },
  {
   "cell_type": "code",
   "execution_count": 113,
   "id": "fcae101a",
   "metadata": {},
   "outputs": [
    {
     "data": {
      "text/plain": [
       "(14199, 60)"
      ]
     },
     "execution_count": 113,
     "metadata": {},
     "output_type": "execute_result"
    }
   ],
   "source": [
    "train_df = df[ctrl_tag].loc[:'2022-01-01']\n",
    "train_df.shape"
   ]
  },
  {
   "cell_type": "code",
   "execution_count": 114,
   "id": "e4497419",
   "metadata": {},
   "outputs": [
    {
     "data": {
      "text/plain": [
       "(8617, 60)"
      ]
     },
     "execution_count": 114,
     "metadata": {},
     "output_type": "execute_result"
    }
   ],
   "source": [
    "test_df = df[ctrl_tag].loc['2022-01-01':]\n",
    "test_df.shape"
   ]
  },
  {
   "cell_type": "code",
   "execution_count": 115,
   "id": "a029d1f1",
   "metadata": {},
   "outputs": [
    {
     "data": {
      "text/plain": [
       "314PDC037.MEAS    1\n",
       "314FC019.MEAS     0\n",
       "312TC016.MEAS     0\n",
       "315TC032.MEAS     0\n",
       "344TC018.MEAS     0\n",
       "315PC005.MEAS     0\n",
       "312LC013.MEAS     0\n",
       "315FC004.MEAS     0\n",
       "314FC012.MEAS     0\n",
       "314LC004.MEAS     0\n",
       "314TC044.MEAS     0\n",
       "314PDC106.MEAS    0\n",
       "312PC021.MEAS     0\n",
       "314FC015.MEAS     4\n",
       "315LC021.MEAS     0\n",
       "314FC750.MEAS     0\n",
       "314PC108.MEAS     0\n",
       "311FRQ003.MEAS    0\n",
       "311LC019.MEAS     0\n",
       "311LC005.MEAS     0\n",
       "311PC017.MEAS     0\n",
       "312FC001.MEAS     0\n",
       "314PC110.MEAS     1\n",
       "315TC003.MEAS     0\n",
       "311LC021.MEAS     0\n",
       "314FC017.MEAS     0\n",
       "314FC753.MEAS     0\n",
       "311PC008.MEAS     0\n",
       "314FC001.MEAS     0\n",
       "314TC016.MEAS     0\n",
       "315PC013.MEAS     0\n",
       "315LC001.MEAS     0\n",
       "314PC009.MEAS     0\n",
       "312LC002.MEAS     0\n",
       "312PC011.MEAS     0\n",
       "315FC017.MEAS     0\n",
       "315LC005.MEAS     0\n",
       "315PC002.MEAS     0\n",
       "312LC008.MEAS     0\n",
       "311TC015.MEAS     0\n",
       "314FC120.MEAS     0\n",
       "311LC013.MEAS     0\n",
       "314PC130.MEAS     0\n",
       "314PC008.MEAS     0\n",
       "314PC111.MEAS     0\n",
       "315LC015.MEAS     0\n",
       "315TC014.MEAS     0\n",
       "312PC020.MEAS     4\n",
       "315TC005.MEAS     0\n",
       "312PC010.MEAS     0\n",
       "311FC030.MEAS     2\n",
       "312PDC015.MEAS    0\n",
       "312LC005.MEAS     0\n",
       "314PC001.MEAS     0\n",
       "314TC111.MEAS     0\n",
       "314FC016.MEAS     0\n",
       "314FC009.MEAS     0\n",
       "314UC011.MEAS     0\n",
       "314PC065.MEAS     0\n",
       "315PC009.MEAS     0\n",
       "dtype: int64"
      ]
     },
     "execution_count": 115,
     "metadata": {},
     "output_type": "execute_result"
    }
   ],
   "source": [
    "# analyze the missing value of train_df\n",
    "test_df.isnull().sum()"
   ]
  },
  {
   "cell_type": "code",
   "execution_count": 118,
   "id": "6f5368aa",
   "metadata": {},
   "outputs": [],
   "source": [
    "# from utils.optimization_result_vis import generate_validation_result\n",
    "\n",
    "# new_final_df = generate_validation_result(final_df, df, ctrl_tag, '2022-01-01')\n",
    "# new_final_df"
   ]
  },
  {
   "cell_type": "code",
   "execution_count": 125,
   "id": "ccf0d7f7",
   "metadata": {},
   "outputs": [],
   "source": [
    "# find the missing index of df2\n",
    "missing_index = df[df.isnull().any(axis=1)].index\n",
    "missing_index\n",
    "# remove the missing index of df2\n",
    "df = df.drop(missing_index)"
   ]
  },
  {
   "cell_type": "code",
   "execution_count": 129,
   "id": "f5aa77fd",
   "metadata": {},
   "outputs": [],
   "source": [
    "missing_index = final_df[final_df.isnull().any(axis=1)].index\n",
    "len(missing_index)\n",
    "# remove the missing index of final_df\n",
    "final_df = final_df.drop(missing_index)"
   ]
  },
  {
   "cell_type": "code",
   "execution_count": 130,
   "id": "21e7ad41",
   "metadata": {},
   "outputs": [],
   "source": [
    "# use the updated function in Jupyter notebook without restarting the kernel\n",
    "import importlib\n",
    "import utils.optimization_result_vis  # import the module\n",
    "\n",
    "importlib.reload(utils.optimization_result_vis)  # reload the module\n",
    "\n",
    "res = utils.optimization_result_vis.generate_validation_result(final_df, df, ctrl_tag, '2022-01-01')"
   ]
  },
  {
   "cell_type": "code",
   "execution_count": 131,
   "id": "0d4969e6",
   "metadata": {},
   "outputs": [
    {
     "data": {
      "text/html": [
       "<div>\n",
       "<style scoped>\n",
       "    .dataframe tbody tr th:only-of-type {\n",
       "        vertical-align: middle;\n",
       "    }\n",
       "\n",
       "    .dataframe tbody tr th {\n",
       "        vertical-align: top;\n",
       "    }\n",
       "\n",
       "    .dataframe thead th {\n",
       "        text-align: right;\n",
       "    }\n",
       "</style>\n",
       "<table border=\"1\" class=\"dataframe\">\n",
       "  <thead>\n",
       "    <tr style=\"text-align: right;\">\n",
       "      <th></th>\n",
       "      <th>314PDC037.MEAS_Validation1</th>\n",
       "      <th>314PDC037.MEAS_Validation2</th>\n",
       "      <th>314PDC037.MEAS_Validation3</th>\n",
       "      <th>314PDC037.MEAS_Validation4</th>\n",
       "      <th>314FC019.MEAS_Validation1</th>\n",
       "      <th>314FC019.MEAS_Validation2</th>\n",
       "      <th>314FC019.MEAS_Validation3</th>\n",
       "      <th>314FC019.MEAS_Validation4</th>\n",
       "      <th>312TC016.MEAS_Validation1</th>\n",
       "      <th>312TC016.MEAS_Validation2</th>\n",
       "      <th>...</th>\n",
       "      <th>314PC065.MEAS_Validation3</th>\n",
       "      <th>314PC065.MEAS_Validation4</th>\n",
       "      <th>315PC009.MEAS_Validation1</th>\n",
       "      <th>315PC009.MEAS_Validation2</th>\n",
       "      <th>315PC009.MEAS_Validation3</th>\n",
       "      <th>315PC009.MEAS_Validation4</th>\n",
       "      <th>Nearest_TimeStamp_Validation1</th>\n",
       "      <th>Nearest_TimeStamp_Validation2</th>\n",
       "      <th>Nearest_TimeStamp_Validation3</th>\n",
       "      <th>Nearest_TimeStamp_Validation4</th>\n",
       "    </tr>\n",
       "  </thead>\n",
       "  <tbody>\n",
       "    <tr>\n",
       "      <th>0</th>\n",
       "      <td>23.41504</td>\n",
       "      <td>23.332227</td>\n",
       "      <td>20.389063</td>\n",
       "      <td>20.257422</td>\n",
       "      <td>82.836521</td>\n",
       "      <td>114.475699</td>\n",
       "      <td>31.878619</td>\n",
       "      <td>97.501342</td>\n",
       "      <td>233.604167</td>\n",
       "      <td>247.96875</td>\n",
       "      <td>...</td>\n",
       "      <td>14.822347</td>\n",
       "      <td>14.951823</td>\n",
       "      <td>2.393848</td>\n",
       "      <td>2.360579</td>\n",
       "      <td>2.394531</td>\n",
       "      <td>2.060645</td>\n",
       "      <td>2021-04-08 11:00:00</td>\n",
       "      <td>2021-06-29 15:00:00</td>\n",
       "      <td>2021-04-09 08:00:00</td>\n",
       "      <td>2021-06-16 06:00:00</td>\n",
       "    </tr>\n",
       "    <tr>\n",
       "      <th>0</th>\n",
       "      <td>32.959181</td>\n",
       "      <td>0.056445</td>\n",
       "      <td>31.572267</td>\n",
       "      <td>33.059963</td>\n",
       "      <td>72.507806</td>\n",
       "      <td>56.652301</td>\n",
       "      <td>66.354112</td>\n",
       "      <td>75.374596</td>\n",
       "      <td>120.690104</td>\n",
       "      <td>131.669271</td>\n",
       "      <td>...</td>\n",
       "      <td>15.871826</td>\n",
       "      <td>16.836019</td>\n",
       "      <td>2.758398</td>\n",
       "      <td>2.388053</td>\n",
       "      <td>2.478483</td>\n",
       "      <td>2.545247</td>\n",
       "      <td>2020-04-13 20:00:00</td>\n",
       "      <td>2020-09-18 04:00:00</td>\n",
       "      <td>2020-05-22 21:00:00</td>\n",
       "      <td>2020-04-30 21:00:00</td>\n",
       "    </tr>\n",
       "    <tr>\n",
       "      <th>0</th>\n",
       "      <td>0.057813</td>\n",
       "      <td>0.066016</td>\n",
       "      <td>0.022461</td>\n",
       "      <td>0.070898</td>\n",
       "      <td>64.362378</td>\n",
       "      <td>92.046385</td>\n",
       "      <td>90.622786</td>\n",
       "      <td>102.984594</td>\n",
       "      <td>239.846354</td>\n",
       "      <td>202.27474</td>\n",
       "      <td>...</td>\n",
       "      <td>16.167562</td>\n",
       "      <td>15.501221</td>\n",
       "      <td>2.451953</td>\n",
       "      <td>2.554525</td>\n",
       "      <td>2.502767</td>\n",
       "      <td>2.552409</td>\n",
       "      <td>2021-01-13 00:00:00</td>\n",
       "      <td>2021-03-11 19:00:00</td>\n",
       "      <td>2020-04-25 04:00:00</td>\n",
       "      <td>2021-03-11 18:00:00</td>\n",
       "    </tr>\n",
       "    <tr>\n",
       "      <th>0</th>\n",
       "      <td>32.98965</td>\n",
       "      <td>32.51426</td>\n",
       "      <td>32.997072</td>\n",
       "      <td>32.979689</td>\n",
       "      <td>20.104536</td>\n",
       "      <td>55.402843</td>\n",
       "      <td>3.955169</td>\n",
       "      <td>25.98396</td>\n",
       "      <td>232.407552</td>\n",
       "      <td>233.018229</td>\n",
       "      <td>...</td>\n",
       "      <td>16.345296</td>\n",
       "      <td>16.317627</td>\n",
       "      <td>0.187923</td>\n",
       "      <td>0.239063</td>\n",
       "      <td>0.200879</td>\n",
       "      <td>0.219401</td>\n",
       "      <td>2020-03-07 16:00:00</td>\n",
       "      <td>2020-03-07 09:00:00</td>\n",
       "      <td>2020-03-07 19:00:00</td>\n",
       "      <td>2020-03-07 11:00:00</td>\n",
       "    </tr>\n",
       "    <tr>\n",
       "      <th>0</th>\n",
       "      <td>0.017969</td>\n",
       "      <td>0.049023</td>\n",
       "      <td>0.033203</td>\n",
       "      <td>0.042578</td>\n",
       "      <td>28.134595</td>\n",
       "      <td>0.00653</td>\n",
       "      <td>191.230357</td>\n",
       "      <td>121.241061</td>\n",
       "      <td>206.923177</td>\n",
       "      <td>172.139323</td>\n",
       "      <td>...</td>\n",
       "      <td>13.86084</td>\n",
       "      <td>15.64738</td>\n",
       "      <td>0.193945</td>\n",
       "      <td>1.008008</td>\n",
       "      <td>2.584115</td>\n",
       "      <td>2.644629</td>\n",
       "      <td>2020-01-02 21:00:00</td>\n",
       "      <td>2021-05-16 02:00:00</td>\n",
       "      <td>2021-05-08 12:00:00</td>\n",
       "      <td>2021-03-11 05:00:00</td>\n",
       "    </tr>\n",
       "  </tbody>\n",
       "</table>\n",
       "<p>5 rows × 244 columns</p>\n",
       "</div>"
      ],
      "text/plain": [
       "  314PDC037.MEAS_Validation1 314PDC037.MEAS_Validation2   \n",
       "0                   23.41504                  23.332227  \\\n",
       "0                  32.959181                   0.056445   \n",
       "0                   0.057813                   0.066016   \n",
       "0                   32.98965                   32.51426   \n",
       "0                   0.017969                   0.049023   \n",
       "\n",
       "  314PDC037.MEAS_Validation3 314PDC037.MEAS_Validation4   \n",
       "0                  20.389063                  20.257422  \\\n",
       "0                  31.572267                  33.059963   \n",
       "0                   0.022461                   0.070898   \n",
       "0                  32.997072                  32.979689   \n",
       "0                   0.033203                   0.042578   \n",
       "\n",
       "  314FC019.MEAS_Validation1 314FC019.MEAS_Validation2   \n",
       "0                 82.836521                114.475699  \\\n",
       "0                 72.507806                 56.652301   \n",
       "0                 64.362378                 92.046385   \n",
       "0                 20.104536                 55.402843   \n",
       "0                 28.134595                   0.00653   \n",
       "\n",
       "  314FC019.MEAS_Validation3 314FC019.MEAS_Validation4   \n",
       "0                 31.878619                 97.501342  \\\n",
       "0                 66.354112                 75.374596   \n",
       "0                 90.622786                102.984594   \n",
       "0                  3.955169                  25.98396   \n",
       "0                191.230357                121.241061   \n",
       "\n",
       "  312TC016.MEAS_Validation1 312TC016.MEAS_Validation2  ...   \n",
       "0                233.604167                 247.96875  ...  \\\n",
       "0                120.690104                131.669271  ...   \n",
       "0                239.846354                 202.27474  ...   \n",
       "0                232.407552                233.018229  ...   \n",
       "0                206.923177                172.139323  ...   \n",
       "\n",
       "  314PC065.MEAS_Validation3 314PC065.MEAS_Validation4   \n",
       "0                 14.822347                 14.951823  \\\n",
       "0                 15.871826                 16.836019   \n",
       "0                 16.167562                 15.501221   \n",
       "0                 16.345296                 16.317627   \n",
       "0                  13.86084                  15.64738   \n",
       "\n",
       "  315PC009.MEAS_Validation1 315PC009.MEAS_Validation2   \n",
       "0                  2.393848                  2.360579  \\\n",
       "0                  2.758398                  2.388053   \n",
       "0                  2.451953                  2.554525   \n",
       "0                  0.187923                  0.239063   \n",
       "0                  0.193945                  1.008008   \n",
       "\n",
       "  315PC009.MEAS_Validation3 315PC009.MEAS_Validation4   \n",
       "0                  2.394531                  2.060645  \\\n",
       "0                  2.478483                  2.545247   \n",
       "0                  2.502767                  2.552409   \n",
       "0                  0.200879                  0.219401   \n",
       "0                  2.584115                  2.644629   \n",
       "\n",
       "  Nearest_TimeStamp_Validation1 Nearest_TimeStamp_Validation2   \n",
       "0           2021-04-08 11:00:00           2021-06-29 15:00:00  \\\n",
       "0           2020-04-13 20:00:00           2020-09-18 04:00:00   \n",
       "0           2021-01-13 00:00:00           2021-03-11 19:00:00   \n",
       "0           2020-03-07 16:00:00           2020-03-07 09:00:00   \n",
       "0           2020-01-02 21:00:00           2021-05-16 02:00:00   \n",
       "\n",
       "  Nearest_TimeStamp_Validation3 Nearest_TimeStamp_Validation4  \n",
       "0           2021-04-09 08:00:00           2021-06-16 06:00:00  \n",
       "0           2020-05-22 21:00:00           2020-04-30 21:00:00  \n",
       "0           2020-04-25 04:00:00           2021-03-11 18:00:00  \n",
       "0           2020-03-07 19:00:00           2020-03-07 11:00:00  \n",
       "0           2021-05-08 12:00:00           2021-03-11 05:00:00  \n",
       "\n",
       "[5 rows x 244 columns]"
      ]
     },
     "execution_count": 131,
     "metadata": {},
     "output_type": "execute_result"
    }
   ],
   "source": [
    "res.head()"
   ]
  },
  {
   "cell_type": "code",
   "execution_count": 14,
   "id": "98fb97b6",
   "metadata": {},
   "outputs": [
    {
     "data": {
      "text/plain": [
       "array([[12136, 12084, 12134, 12083],\n",
       "       [ 5980,  5981,  5987,  5982],\n",
       "       [10635, 10636, 10634, 10633],\n",
       "       ...,\n",
       "       [ 6004,  6005,  6013,  6047],\n",
       "       [ 3255,  3757,  3747,  3755],\n",
       "       [12448,  5198, 10627, 10655]], dtype=int64)"
      ]
     },
     "execution_count": 14,
     "metadata": {},
     "output_type": "execute_result"
    }
   ],
   "source": [
    "indices"
   ]
  },
  {
   "cell_type": "code",
   "execution_count": 15,
   "id": "7607a99f",
   "metadata": {},
   "outputs": [
    {
     "data": {
      "text/plain": [
       "(8492, 4)"
      ]
     },
     "execution_count": 15,
     "metadata": {},
     "output_type": "execute_result"
    }
   ],
   "source": [
    "indices.shape"
   ]
  },
  {
   "cell_type": "code",
   "execution_count": 29,
   "id": "5dcb9312",
   "metadata": {},
   "outputs": [],
   "source": [
    "res.to_csv(Config.result_generating.v3.outputing.output_path)"
   ]
  }
 ],
 "metadata": {
  "kernelspec": {
   "display_name": "Python 3 (ipykernel)",
   "language": "python",
   "name": "python3"
  },
  "language_info": {
   "codemirror_mode": {
    "name": "ipython",
    "version": 3
   },
   "file_extension": ".py",
   "mimetype": "text/x-python",
   "name": "python",
   "nbconvert_exporter": "python",
   "pygments_lexer": "ipython3",
   "version": "3.11.2"
  }
 },
 "nbformat": 4,
 "nbformat_minor": 5
}
